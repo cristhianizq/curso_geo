{
 "cells": [
  {
   "cell_type": "markdown",
   "id": "00afced4",
   "metadata": {},
   "source": [
    "## Statial Inequality Dynamics \n",
    "https://geographicdata.science/book/notebooks/09_spatial_inequality.html"
   ]
  },
  {
   "cell_type": "code",
   "execution_count": 1,
   "id": "2f083490",
   "metadata": {},
   "outputs": [],
   "source": [
    "import seaborn\n",
    "import pandas\n",
    "import geopandas\n",
    "import pysal\n",
    "import numpy\n",
    "import mapclassify\n",
    "import matplotlib.pyplot as plt\n",
    "from pysal.explore import esda\n",
    "from pysal.lib import weights"
   ]
  },
  {
   "cell_type": "code",
   "execution_count": 2,
   "id": "7aae830d",
   "metadata": {},
   "outputs": [],
   "source": [
    "years = numpy.arange(1969, 2018).astype(str)"
   ]
  },
  {
   "cell_type": "code",
   "execution_count": 3,
   "id": "5d8f7177",
   "metadata": {},
   "outputs": [
    {
     "data": {
      "text/plain": [
       "array(['1969', '1970', '1971', '1972', '1973', '1974', '1975', '1976',\n",
       "       '1977', '1978', '1979', '1980', '1981', '1982', '1983', '1984',\n",
       "       '1985', '1986', '1987', '1988', '1989', '1990', '1991', '1992',\n",
       "       '1993', '1994', '1995', '1996', '1997', '1998', '1999', '2000',\n",
       "       '2001', '2002', '2003', '2004', '2005', '2006', '2007', '2008',\n",
       "       '2009', '2010', '2011', '2012', '2013', '2014', '2015', '2016',\n",
       "       '2017'], dtype='<U11')"
      ]
     },
     "execution_count": 3,
     "metadata": {},
     "output_type": "execute_result"
    }
   ],
   "source": [
    "years"
   ]
  },
  {
   "cell_type": "code",
   "execution_count": 6,
   "id": "774b8902",
   "metadata": {},
   "outputs": [
    {
     "data": {
      "text/plain": [
       "array(['1969', '1972', '1975', '1978', '1981', '1984', '1987', '1990',\n",
       "       '1993', '1996', '1999', '2002', '2005', '2008', '2011', '2014',\n",
       "       '2017'], dtype='<U11')"
      ]
     },
     "execution_count": 6,
     "metadata": {},
     "output_type": "execute_result"
    }
   ],
   "source": [
    "years[::3]"
   ]
  },
  {
   "cell_type": "code",
   "execution_count": null,
   "id": "bbb94e54",
   "metadata": {},
   "outputs": [],
   "source": []
  }
 ],
 "metadata": {
  "kernelspec": {
   "display_name": "Python 3 (ipykernel)",
   "language": "python",
   "name": "python3"
  },
  "language_info": {
   "codemirror_mode": {
    "name": "ipython",
    "version": 3
   },
   "file_extension": ".py",
   "mimetype": "text/x-python",
   "name": "python",
   "nbconvert_exporter": "python",
   "pygments_lexer": "ipython3",
   "version": "3.8.12"
  }
 },
 "nbformat": 4,
 "nbformat_minor": 5
}
